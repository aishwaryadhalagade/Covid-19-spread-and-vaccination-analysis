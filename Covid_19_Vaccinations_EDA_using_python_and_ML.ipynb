{
  "nbformat": 4,
  "nbformat_minor": 0,
  "metadata": {
    "colab": {
      "name": "Covid-19 Vaccinations EDA using python and ML.ipynb",
      "provenance": [],
      "collapsed_sections": [],
      "toc_visible": true
    },
    "kernelspec": {
      "name": "python3",
      "display_name": "Python 3"
    }
  },
  "cells": [
    {
      "cell_type": "markdown",
      "metadata": {
        "id": "QZ6aO-geTluj"
      },
      "source": [
        "Covid - 19 Vaccination Progress around the world and India is in comparision seperately"
      ]
    },
    {
      "cell_type": "markdown",
      "metadata": {
        "id": "XHxUi4Fm9GND"
      },
      "source": [
        "#### Import the Libraries"
      ]
    },
    {
      "cell_type": "code",
      "metadata": {
        "id": "Ql4ujjE23API"
      },
      "source": [
        "import pandas as pd\n",
        "import numpy as np\n",
        "import matplotlib.pyplot as plt\n",
        "import seaborn as sns\n",
        "import plotly.graph_objs as go\n",
        "import plotly.express as px"
      ],
      "execution_count": null,
      "outputs": []
    },
    {
      "cell_type": "markdown",
      "metadata": {
        "id": "3h29lstZ9Nqi"
      },
      "source": [
        "#### Import and explore the dataset"
      ]
    },
    {
      "cell_type": "code",
      "metadata": {
        "colab": {
          "base_uri": "https://localhost:8080/",
          "height": 299
        },
        "id": "IUOMMjV33wQK",
        "outputId": "af551048-b690-4c6f-c479-1c28099e8407"
      },
      "source": [
        "dataset = pd.read_csv('drive/MyDrive/Datasets/country_vaccinations.csv')\n",
        "dataset.head()"
      ],
      "execution_count": null,
      "outputs": [
        {
          "output_type": "execute_result",
          "data": {
            "text/html": [
              "<div>\n",
              "<style scoped>\n",
              "    .dataframe tbody tr th:only-of-type {\n",
              "        vertical-align: middle;\n",
              "    }\n",
              "\n",
              "    .dataframe tbody tr th {\n",
              "        vertical-align: top;\n",
              "    }\n",
              "\n",
              "    .dataframe thead th {\n",
              "        text-align: right;\n",
              "    }\n",
              "</style>\n",
              "<table border=\"1\" class=\"dataframe\">\n",
              "  <thead>\n",
              "    <tr style=\"text-align: right;\">\n",
              "      <th></th>\n",
              "      <th>country</th>\n",
              "      <th>iso_code</th>\n",
              "      <th>date</th>\n",
              "      <th>total_vaccinations</th>\n",
              "      <th>people_vaccinated</th>\n",
              "      <th>people_fully_vaccinated</th>\n",
              "      <th>daily_vaccinations_raw</th>\n",
              "      <th>daily_vaccinations</th>\n",
              "      <th>total_vaccinations_per_hundred</th>\n",
              "      <th>people_vaccinated_per_hundred</th>\n",
              "      <th>people_fully_vaccinated_per_hundred</th>\n",
              "      <th>daily_vaccinations_per_million</th>\n",
              "      <th>vaccines</th>\n",
              "      <th>source_name</th>\n",
              "      <th>source_website</th>\n",
              "    </tr>\n",
              "  </thead>\n",
              "  <tbody>\n",
              "    <tr>\n",
              "      <th>0</th>\n",
              "      <td>Albania</td>\n",
              "      <td>ALB</td>\n",
              "      <td>2021-01-10</td>\n",
              "      <td>0.0</td>\n",
              "      <td>0.0</td>\n",
              "      <td>NaN</td>\n",
              "      <td>NaN</td>\n",
              "      <td>NaN</td>\n",
              "      <td>0.00</td>\n",
              "      <td>0.00</td>\n",
              "      <td>NaN</td>\n",
              "      <td>NaN</td>\n",
              "      <td>Pfizer/BioNTech</td>\n",
              "      <td>Ministry of Health</td>\n",
              "      <td>https://shendetesia.gov.al/vaksinimi-anticovid...</td>\n",
              "    </tr>\n",
              "    <tr>\n",
              "      <th>1</th>\n",
              "      <td>Albania</td>\n",
              "      <td>ALB</td>\n",
              "      <td>2021-01-11</td>\n",
              "      <td>NaN</td>\n",
              "      <td>NaN</td>\n",
              "      <td>NaN</td>\n",
              "      <td>NaN</td>\n",
              "      <td>64.0</td>\n",
              "      <td>NaN</td>\n",
              "      <td>NaN</td>\n",
              "      <td>NaN</td>\n",
              "      <td>22.0</td>\n",
              "      <td>Pfizer/BioNTech</td>\n",
              "      <td>Ministry of Health</td>\n",
              "      <td>https://shendetesia.gov.al/vaksinimi-anticovid...</td>\n",
              "    </tr>\n",
              "    <tr>\n",
              "      <th>2</th>\n",
              "      <td>Albania</td>\n",
              "      <td>ALB</td>\n",
              "      <td>2021-01-12</td>\n",
              "      <td>128.0</td>\n",
              "      <td>128.0</td>\n",
              "      <td>NaN</td>\n",
              "      <td>NaN</td>\n",
              "      <td>64.0</td>\n",
              "      <td>0.00</td>\n",
              "      <td>0.00</td>\n",
              "      <td>NaN</td>\n",
              "      <td>22.0</td>\n",
              "      <td>Pfizer/BioNTech</td>\n",
              "      <td>Ministry of Health</td>\n",
              "      <td>https://shendetesia.gov.al/vaksinimi-anticovid...</td>\n",
              "    </tr>\n",
              "    <tr>\n",
              "      <th>3</th>\n",
              "      <td>Albania</td>\n",
              "      <td>ALB</td>\n",
              "      <td>2021-01-13</td>\n",
              "      <td>188.0</td>\n",
              "      <td>188.0</td>\n",
              "      <td>NaN</td>\n",
              "      <td>60.0</td>\n",
              "      <td>63.0</td>\n",
              "      <td>0.01</td>\n",
              "      <td>0.01</td>\n",
              "      <td>NaN</td>\n",
              "      <td>22.0</td>\n",
              "      <td>Pfizer/BioNTech</td>\n",
              "      <td>Ministry of Health</td>\n",
              "      <td>https://shendetesia.gov.al/vaksinimi-anticovid...</td>\n",
              "    </tr>\n",
              "    <tr>\n",
              "      <th>4</th>\n",
              "      <td>Albania</td>\n",
              "      <td>ALB</td>\n",
              "      <td>2021-01-14</td>\n",
              "      <td>266.0</td>\n",
              "      <td>266.0</td>\n",
              "      <td>NaN</td>\n",
              "      <td>78.0</td>\n",
              "      <td>66.0</td>\n",
              "      <td>0.01</td>\n",
              "      <td>0.01</td>\n",
              "      <td>NaN</td>\n",
              "      <td>23.0</td>\n",
              "      <td>Pfizer/BioNTech</td>\n",
              "      <td>Ministry of Health</td>\n",
              "      <td>https://shendetesia.gov.al/vaksinimi-anticovid...</td>\n",
              "    </tr>\n",
              "  </tbody>\n",
              "</table>\n",
              "</div>"
            ],
            "text/plain": [
              "   country  ...                                     source_website\n",
              "0  Albania  ...  https://shendetesia.gov.al/vaksinimi-anticovid...\n",
              "1  Albania  ...  https://shendetesia.gov.al/vaksinimi-anticovid...\n",
              "2  Albania  ...  https://shendetesia.gov.al/vaksinimi-anticovid...\n",
              "3  Albania  ...  https://shendetesia.gov.al/vaksinimi-anticovid...\n",
              "4  Albania  ...  https://shendetesia.gov.al/vaksinimi-anticovid...\n",
              "\n",
              "[5 rows x 15 columns]"
            ]
          },
          "metadata": {
            "tags": []
          },
          "execution_count": 78
        }
      ]
    },
    {
      "cell_type": "code",
      "metadata": {
        "colab": {
          "base_uri": "https://localhost:8080/"
        },
        "id": "mY7rGz474OBl",
        "outputId": "d21b8754-facb-4591-c7a0-fec6ae4a01e7"
      },
      "source": [
        "print(dataset.shape)"
      ],
      "execution_count": null,
      "outputs": [
        {
          "output_type": "stream",
          "text": [
            "(3396, 15)\n"
          ],
          "name": "stdout"
        }
      ]
    },
    {
      "cell_type": "code",
      "metadata": {
        "colab": {
          "base_uri": "https://localhost:8080/"
        },
        "id": "GceA9igF6TDe",
        "outputId": "8bd8d979-cbc9-4d26-9fe1-7f6f1ea902cf"
      },
      "source": [
        "dataset.country.unique()"
      ],
      "execution_count": null,
      "outputs": [
        {
          "output_type": "execute_result",
          "data": {
            "text/plain": [
              "array(['Albania', 'Algeria', 'Andorra', 'Anguilla', 'Argentina',\n",
              "       'Austria', 'Azerbaijan', 'Bahrain', 'Bangladesh', 'Belgium',\n",
              "       'Bermuda', 'Bolivia', 'Brazil', 'Bulgaria', 'Cambodia', 'Canada',\n",
              "       'Cayman Islands', 'Chile', 'China', 'Colombia', 'Costa Rica',\n",
              "       'Croatia', 'Cyprus', 'Czechia', 'Denmark', 'Dominican Republic',\n",
              "       'Ecuador', 'Egypt', 'England', 'Estonia', 'Faeroe Islands',\n",
              "       'Finland', 'France', 'Germany', 'Gibraltar', 'Greece', 'Greenland',\n",
              "       'Guernsey', 'Guyana', 'Hungary', 'Iceland', 'India', 'Indonesia',\n",
              "       'Iran', 'Ireland', 'Isle of Man', 'Israel', 'Italy', 'Japan',\n",
              "       'Jersey', 'Kuwait', 'Latvia', 'Liechtenstein', 'Lithuania',\n",
              "       'Luxembourg', 'Maldives', 'Malta', 'Mauritius', 'Mexico', 'Monaco',\n",
              "       'Morocco', 'Myanmar', 'Nepal', 'Netherlands', 'Northern Cyprus',\n",
              "       'Northern Ireland', 'Norway', 'Oman', 'Pakistan', 'Panama', 'Peru',\n",
              "       'Poland', 'Portugal', 'Qatar', 'Romania', 'Russia', 'Saint Helena',\n",
              "       'Saudi Arabia', 'Scotland', 'Serbia', 'Seychelles', 'Singapore',\n",
              "       'Slovakia', 'Slovenia', 'Spain', 'Sri Lanka', 'Sweden',\n",
              "       'Switzerland', 'Turkey', 'Turks and Caicos Islands',\n",
              "       'United Arab Emirates', 'United Kingdom', 'United States', 'Wales'],\n",
              "      dtype=object)"
            ]
          },
          "metadata": {
            "tags": []
          },
          "execution_count": 80
        }
      ]
    },
    {
      "cell_type": "code",
      "metadata": {
        "colab": {
          "base_uri": "https://localhost:8080/"
        },
        "id": "Ff5lRFr24hQE",
        "outputId": "41f04b06-7f72-48de-8a3a-afe80098b620"
      },
      "source": [
        "dataset.info()"
      ],
      "execution_count": null,
      "outputs": [
        {
          "output_type": "stream",
          "text": [
            "<class 'pandas.core.frame.DataFrame'>\n",
            "RangeIndex: 3396 entries, 0 to 3395\n",
            "Data columns (total 15 columns):\n",
            " #   Column                               Non-Null Count  Dtype  \n",
            "---  ------                               --------------  -----  \n",
            " 0   country                              3396 non-null   object \n",
            " 1   iso_code                             3132 non-null   object \n",
            " 2   date                                 3396 non-null   object \n",
            " 3   total_vaccinations                   2225 non-null   float64\n",
            " 4   people_vaccinated                    1833 non-null   float64\n",
            " 5   people_fully_vaccinated              1186 non-null   float64\n",
            " 6   daily_vaccinations_raw               1861 non-null   float64\n",
            " 7   daily_vaccinations                   3264 non-null   float64\n",
            " 8   total_vaccinations_per_hundred       2225 non-null   float64\n",
            " 9   people_vaccinated_per_hundred        1833 non-null   float64\n",
            " 10  people_fully_vaccinated_per_hundred  1186 non-null   float64\n",
            " 11  daily_vaccinations_per_million       3264 non-null   float64\n",
            " 12  vaccines                             3396 non-null   object \n",
            " 13  source_name                          3396 non-null   object \n",
            " 14  source_website                       3396 non-null   object \n",
            "dtypes: float64(9), object(6)\n",
            "memory usage: 398.1+ KB\n"
          ],
          "name": "stdout"
        }
      ]
    },
    {
      "cell_type": "code",
      "metadata": {
        "colab": {
          "base_uri": "https://localhost:8080/"
        },
        "id": "V1vIycIK4khU",
        "outputId": "fc6320b8-ea32-4a16-c32f-6d4eafda5360"
      },
      "source": [
        "dataset.isnull().sum()"
      ],
      "execution_count": null,
      "outputs": [
        {
          "output_type": "execute_result",
          "data": {
            "text/plain": [
              "country                                   0\n",
              "iso_code                                264\n",
              "date                                      0\n",
              "total_vaccinations                     1171\n",
              "people_vaccinated                      1563\n",
              "people_fully_vaccinated                2210\n",
              "daily_vaccinations_raw                 1535\n",
              "daily_vaccinations                      132\n",
              "total_vaccinations_per_hundred         1171\n",
              "people_vaccinated_per_hundred          1563\n",
              "people_fully_vaccinated_per_hundred    2210\n",
              "daily_vaccinations_per_million          132\n",
              "vaccines                                  0\n",
              "source_name                               0\n",
              "source_website                            0\n",
              "dtype: int64"
            ]
          },
          "metadata": {
            "tags": []
          },
          "execution_count": 82
        }
      ]
    },
    {
      "cell_type": "code",
      "metadata": {
        "colab": {
          "base_uri": "https://localhost:8080/"
        },
        "id": "2s0UFhv84vPz",
        "outputId": "99eddcbc-ea82-4533-873c-ae815960540a"
      },
      "source": [
        "dataset.nunique()"
      ],
      "execution_count": null,
      "outputs": [
        {
          "output_type": "execute_result",
          "data": {
            "text/plain": [
              "country                                  94\n",
              "iso_code                                 90\n",
              "date                                     67\n",
              "total_vaccinations                     2123\n",
              "people_vaccinated                      1764\n",
              "people_fully_vaccinated                1121\n",
              "daily_vaccinations_raw                 1729\n",
              "daily_vaccinations                     2597\n",
              "total_vaccinations_per_hundred          923\n",
              "people_vaccinated_per_hundred           775\n",
              "people_fully_vaccinated_per_hundred     311\n",
              "daily_vaccinations_per_million         1874\n",
              "vaccines                                 18\n",
              "source_name                              56\n",
              "source_website                           90\n",
              "dtype: int64"
            ]
          },
          "metadata": {
            "tags": []
          },
          "execution_count": 83
        }
      ]
    },
    {
      "cell_type": "markdown",
      "metadata": {
        "id": "ZyvL4mBK63w-"
      },
      "source": [
        "As we see there are 94 countries, but only 90 iso country code for each of them, hence 4 of the countries shouldnt have iso code"
      ]
    },
    {
      "cell_type": "code",
      "metadata": {
        "colab": {
          "base_uri": "https://localhost:8080/"
        },
        "id": "tzxYsFjH6HEi",
        "outputId": "fd40f1cc-d715-412d-ca0c-b0c508d2090f"
      },
      "source": [
        "dataset[dataset['iso_code'].isnull()]['country'].value_counts()"
      ],
      "execution_count": null,
      "outputs": [
        {
          "output_type": "execute_result",
          "data": {
            "text/plain": [
              "Wales               66\n",
              "England             66\n",
              "Scotland            66\n",
              "Northern Ireland    66\n",
              "Name: country, dtype: int64"
            ]
          },
          "metadata": {
            "tags": []
          },
          "execution_count": 84
        }
      ]
    },
    {
      "cell_type": "markdown",
      "metadata": {
        "id": "BqZ6O1Ge81m3"
      },
      "source": [
        "Filling the above null values in iso code with something (ABS) - ie absent"
      ]
    },
    {
      "cell_type": "code",
      "metadata": {
        "colab": {
          "base_uri": "https://localhost:8080/"
        },
        "id": "Z62KQDDB7msl",
        "outputId": "b9caba57-cbe8-4a6b-d632-fcc03bba933e"
      },
      "source": [
        "dataset['iso_code'] = dataset['iso_code'].fillna('ABS')\n",
        "dataset.iso_code.isnull().sum().any()"
      ],
      "execution_count": null,
      "outputs": [
        {
          "output_type": "execute_result",
          "data": {
            "text/plain": [
              "False"
            ]
          },
          "metadata": {
            "tags": []
          },
          "execution_count": 85
        }
      ]
    },
    {
      "cell_type": "markdown",
      "metadata": {
        "id": "kkdXOmsAWC9D"
      },
      "source": [
        "Total Vaccinations are avaailable in each of the country/Country wise distribution"
      ]
    },
    {
      "cell_type": "code",
      "metadata": {
        "colab": {
          "base_uri": "https://localhost:8080/",
          "height": 278
        },
        "id": "sxknRaQwVKxk",
        "outputId": "6fb43bc7-68c9-4abb-c254-ee467c6c7335"
      },
      "source": [
        "total_vaccinations = dataset.groupby('country').sum()\n",
        "total_vaccinations = total_vaccinations.sort_values(by = 'total_vaccinations',axis = 0, ascending = False)\n",
        "pd.DataFrame(total_vaccinations.head())"
      ],
      "execution_count": null,
      "outputs": [
        {
          "output_type": "execute_result",
          "data": {
            "text/html": [
              "<div>\n",
              "<style scoped>\n",
              "    .dataframe tbody tr th:only-of-type {\n",
              "        vertical-align: middle;\n",
              "    }\n",
              "\n",
              "    .dataframe tbody tr th {\n",
              "        vertical-align: top;\n",
              "    }\n",
              "\n",
              "    .dataframe thead th {\n",
              "        text-align: right;\n",
              "    }\n",
              "</style>\n",
              "<table border=\"1\" class=\"dataframe\">\n",
              "  <thead>\n",
              "    <tr style=\"text-align: right;\">\n",
              "      <th></th>\n",
              "      <th>total_vaccinations</th>\n",
              "      <th>people_vaccinated</th>\n",
              "      <th>people_fully_vaccinated</th>\n",
              "      <th>daily_vaccinations_raw</th>\n",
              "      <th>daily_vaccinations</th>\n",
              "      <th>total_vaccinations_per_hundred</th>\n",
              "      <th>people_vaccinated_per_hundred</th>\n",
              "      <th>people_fully_vaccinated_per_hundred</th>\n",
              "      <th>daily_vaccinations_per_million</th>\n",
              "    </tr>\n",
              "    <tr>\n",
              "      <th>country</th>\n",
              "      <th></th>\n",
              "      <th></th>\n",
              "      <th></th>\n",
              "      <th></th>\n",
              "      <th></th>\n",
              "      <th></th>\n",
              "      <th></th>\n",
              "      <th></th>\n",
              "      <th></th>\n",
              "    </tr>\n",
              "  </thead>\n",
              "  <tbody>\n",
              "    <tr>\n",
              "      <th>United States</th>\n",
              "      <td>1.080963e+09</td>\n",
              "      <td>851005685.0</td>\n",
              "      <td>210196912.0</td>\n",
              "      <td>43712969.0</td>\n",
              "      <td>51830013.0</td>\n",
              "      <td>323.21</td>\n",
              "      <td>254.48</td>\n",
              "      <td>62.84</td>\n",
              "      <td>154975.0</td>\n",
              "    </tr>\n",
              "    <tr>\n",
              "      <th>United Kingdom</th>\n",
              "      <td>3.471888e+08</td>\n",
              "      <td>328734963.0</td>\n",
              "      <td>18453832.0</td>\n",
              "      <td>13821578.0</td>\n",
              "      <td>15555473.0</td>\n",
              "      <td>511.41</td>\n",
              "      <td>484.22</td>\n",
              "      <td>27.17</td>\n",
              "      <td>229139.0</td>\n",
              "    </tr>\n",
              "    <tr>\n",
              "      <th>England</th>\n",
              "      <td>2.984112e+08</td>\n",
              "      <td>281247874.0</td>\n",
              "      <td>17163359.0</td>\n",
              "      <td>11557278.0</td>\n",
              "      <td>13154575.0</td>\n",
              "      <td>530.16</td>\n",
              "      <td>499.67</td>\n",
              "      <td>30.50</td>\n",
              "      <td>233707.0</td>\n",
              "    </tr>\n",
              "    <tr>\n",
              "      <th>Israel</th>\n",
              "      <td>1.915263e+08</td>\n",
              "      <td>134479695.0</td>\n",
              "      <td>57046579.0</td>\n",
              "      <td>6879189.0</td>\n",
              "      <td>6557144.0</td>\n",
              "      <td>2212.77</td>\n",
              "      <td>1553.67</td>\n",
              "      <td>659.08</td>\n",
              "      <td>757565.0</td>\n",
              "    </tr>\n",
              "    <tr>\n",
              "      <th>China</th>\n",
              "      <td>1.584870e+08</td>\n",
              "      <td>0.0</td>\n",
              "      <td>0.0</td>\n",
              "      <td>0.0</td>\n",
              "      <td>34922496.0</td>\n",
              "      <td>11.01</td>\n",
              "      <td>0.00</td>\n",
              "      <td>0.00</td>\n",
              "      <td>24255.0</td>\n",
              "    </tr>\n",
              "  </tbody>\n",
              "</table>\n",
              "</div>"
            ],
            "text/plain": [
              "                total_vaccinations  ...  daily_vaccinations_per_million\n",
              "country                             ...                                \n",
              "United States         1.080963e+09  ...                        154975.0\n",
              "United Kingdom        3.471888e+08  ...                        229139.0\n",
              "England               2.984112e+08  ...                        233707.0\n",
              "Israel                1.915263e+08  ...                        757565.0\n",
              "China                 1.584870e+08  ...                         24255.0\n",
              "\n",
              "[5 rows x 9 columns]"
            ]
          },
          "metadata": {
            "tags": []
          },
          "execution_count": 86
        }
      ]
    },
    {
      "cell_type": "code",
      "metadata": {
        "id": "eAKQhJAUYQsU",
        "colab": {
          "base_uri": "https://localhost:8080/",
          "height": 262
        },
        "outputId": "dde1a3bb-291c-439a-b1ee-a8ecc517a63b"
      },
      "source": [
        "pd.DataFrame(total_vaccinations.tail())"
      ],
      "execution_count": null,
      "outputs": [
        {
          "output_type": "execute_result",
          "data": {
            "text/html": [
              "<div>\n",
              "<style scoped>\n",
              "    .dataframe tbody tr th:only-of-type {\n",
              "        vertical-align: middle;\n",
              "    }\n",
              "\n",
              "    .dataframe tbody tr th {\n",
              "        vertical-align: top;\n",
              "    }\n",
              "\n",
              "    .dataframe thead th {\n",
              "        text-align: right;\n",
              "    }\n",
              "</style>\n",
              "<table border=\"1\" class=\"dataframe\">\n",
              "  <thead>\n",
              "    <tr style=\"text-align: right;\">\n",
              "      <th></th>\n",
              "      <th>total_vaccinations</th>\n",
              "      <th>people_vaccinated</th>\n",
              "      <th>people_fully_vaccinated</th>\n",
              "      <th>daily_vaccinations_raw</th>\n",
              "      <th>daily_vaccinations</th>\n",
              "      <th>total_vaccinations_per_hundred</th>\n",
              "      <th>people_vaccinated_per_hundred</th>\n",
              "      <th>people_fully_vaccinated_per_hundred</th>\n",
              "      <th>daily_vaccinations_per_million</th>\n",
              "    </tr>\n",
              "    <tr>\n",
              "      <th>country</th>\n",
              "      <th></th>\n",
              "      <th></th>\n",
              "      <th></th>\n",
              "      <th></th>\n",
              "      <th></th>\n",
              "      <th></th>\n",
              "      <th></th>\n",
              "      <th></th>\n",
              "      <th></th>\n",
              "    </tr>\n",
              "  </thead>\n",
              "  <tbody>\n",
              "    <tr>\n",
              "      <th>Mauritius</th>\n",
              "      <td>207.0</td>\n",
              "      <td>207.0</td>\n",
              "      <td>0.0</td>\n",
              "      <td>0.0</td>\n",
              "      <td>210.0</td>\n",
              "      <td>0.02</td>\n",
              "      <td>0.02</td>\n",
              "      <td>0.0</td>\n",
              "      <td>168.0</td>\n",
              "    </tr>\n",
              "    <tr>\n",
              "      <th>Japan</th>\n",
              "      <td>125.0</td>\n",
              "      <td>125.0</td>\n",
              "      <td>0.0</td>\n",
              "      <td>125.0</td>\n",
              "      <td>125.0</td>\n",
              "      <td>0.00</td>\n",
              "      <td>0.00</td>\n",
              "      <td>0.0</td>\n",
              "      <td>1.0</td>\n",
              "    </tr>\n",
              "    <tr>\n",
              "      <th>Saint Helena</th>\n",
              "      <td>107.0</td>\n",
              "      <td>0.0</td>\n",
              "      <td>0.0</td>\n",
              "      <td>0.0</td>\n",
              "      <td>0.0</td>\n",
              "      <td>1.76</td>\n",
              "      <td>0.00</td>\n",
              "      <td>0.0</td>\n",
              "      <td>0.0</td>\n",
              "    </tr>\n",
              "    <tr>\n",
              "      <th>Algeria</th>\n",
              "      <td>30.0</td>\n",
              "      <td>0.0</td>\n",
              "      <td>0.0</td>\n",
              "      <td>30.0</td>\n",
              "      <td>30.0</td>\n",
              "      <td>0.00</td>\n",
              "      <td>0.00</td>\n",
              "      <td>0.0</td>\n",
              "      <td>1.0</td>\n",
              "    </tr>\n",
              "    <tr>\n",
              "      <th>Colombia</th>\n",
              "      <td>18.0</td>\n",
              "      <td>18.0</td>\n",
              "      <td>0.0</td>\n",
              "      <td>18.0</td>\n",
              "      <td>18.0</td>\n",
              "      <td>0.00</td>\n",
              "      <td>0.00</td>\n",
              "      <td>0.0</td>\n",
              "      <td>0.0</td>\n",
              "    </tr>\n",
              "  </tbody>\n",
              "</table>\n",
              "</div>"
            ],
            "text/plain": [
              "              total_vaccinations  ...  daily_vaccinations_per_million\n",
              "country                           ...                                \n",
              "Mauritius                  207.0  ...                           168.0\n",
              "Japan                      125.0  ...                             1.0\n",
              "Saint Helena               107.0  ...                             0.0\n",
              "Algeria                     30.0  ...                             1.0\n",
              "Colombia                    18.0  ...                             0.0\n",
              "\n",
              "[5 rows x 9 columns]"
            ]
          },
          "metadata": {
            "tags": []
          },
          "execution_count": 87
        }
      ]
    },
    {
      "cell_type": "markdown",
      "metadata": {
        "id": "2vrLc0O33_W_"
      },
      "source": [
        "#### Data Visualizations"
      ]
    },
    {
      "cell_type": "code",
      "metadata": {
        "colab": {
          "base_uri": "https://localhost:8080/",
          "height": 542
        },
        "id": "DqT5rHLZ0ubu",
        "outputId": "143efbe5-29b5-441d-d384-6d3cb3e0a9ef"
      },
      "source": [
        "from plotly.offline import iplot\n",
        "\n",
        "total_vacc = total_vaccinations[:15].sort_values(by = 'total_vaccinations')\n",
        "plot_1 = go.Bar(x = total_vacc['total_vaccinations'], y = total_vacc.index, orientation= 'h')\n",
        "fig = go.Figure(data = [plot_1])\n",
        "fig.update_layout(title = 'Top 15 countries with Maximum Vaccinations')\n",
        "fig.update_xaxes(title = 'Total Vaccinations')\n",
        "fig.update_yaxes(title = 'Countries')\n",
        "\n",
        "iplot(fig)"
      ],
      "execution_count": null,
      "outputs": [
        {
          "output_type": "display_data",
          "data": {
            "text/html": [
              "<html>\n",
              "<head><meta charset=\"utf-8\" /></head>\n",
              "<body>\n",
              "    <div>\n",
              "            <script src=\"https://cdnjs.cloudflare.com/ajax/libs/mathjax/2.7.5/MathJax.js?config=TeX-AMS-MML_SVG\"></script><script type=\"text/javascript\">if (window.MathJax) {MathJax.Hub.Config({SVG: {font: \"STIX-Web\"}});}</script>\n",
              "                <script type=\"text/javascript\">window.PlotlyConfig = {MathJaxConfig: 'local'};</script>\n",
              "        <script src=\"https://cdn.plot.ly/plotly-latest.min.js\"></script>    \n",
              "            <div id=\"eb44a86a-8ece-47c9-ba8b-244cad1ed819\" class=\"plotly-graph-div\" style=\"height:525px; width:100%;\"></div>\n",
              "            <script type=\"text/javascript\">\n",
              "                \n",
              "                    window.PLOTLYENV=window.PLOTLYENV || {};\n",
              "                    \n",
              "                if (document.getElementById(\"eb44a86a-8ece-47c9-ba8b-244cad1ed819\")) {\n",
              "                    Plotly.newPlot(\n",
              "                        'eb44a86a-8ece-47c9-ba8b-244cad1ed819',\n",
              "                        [{\"orientation\": \"h\", \"type\": \"bar\", \"x\": [24546761.0, 40691689.0, 43568885.0, 55348556.0, 74713183.0, 77925275.0, 79281945.0, 94900496.0, 119828854.0, 141877583.0, 158487000.0, 191526274.0, 298411233.0, 347188795.0, 1080963327.0], \"y\": [\"Romania\", \"Poland\", \"Spain\", \"France\", \"Turkey\", \"Italy\", \"Brazil\", \"Germany\", \"United Arab Emirates\", \"India\", \"China\", \"Israel\", \"England\", \"United Kingdom\", \"United States\"]}],\n",
              "                        {\"template\": {\"data\": {\"bar\": [{\"error_x\": {\"color\": \"#2a3f5f\"}, \"error_y\": {\"color\": \"#2a3f5f\"}, \"marker\": {\"line\": {\"color\": \"#E5ECF6\", \"width\": 0.5}}, \"type\": \"bar\"}], \"barpolar\": [{\"marker\": {\"line\": {\"color\": \"#E5ECF6\", \"width\": 0.5}}, \"type\": \"barpolar\"}], \"carpet\": [{\"aaxis\": {\"endlinecolor\": \"#2a3f5f\", \"gridcolor\": \"white\", \"linecolor\": \"white\", \"minorgridcolor\": \"white\", \"startlinecolor\": \"#2a3f5f\"}, \"baxis\": {\"endlinecolor\": \"#2a3f5f\", \"gridcolor\": \"white\", \"linecolor\": \"white\", \"minorgridcolor\": \"white\", \"startlinecolor\": \"#2a3f5f\"}, \"type\": \"carpet\"}], \"choropleth\": [{\"colorbar\": {\"outlinewidth\": 0, \"ticks\": \"\"}, \"type\": \"choropleth\"}], \"contour\": [{\"colorbar\": {\"outlinewidth\": 0, \"ticks\": \"\"}, \"colorscale\": [[0.0, \"#0d0887\"], [0.1111111111111111, \"#46039f\"], [0.2222222222222222, \"#7201a8\"], [0.3333333333333333, \"#9c179e\"], [0.4444444444444444, \"#bd3786\"], [0.5555555555555556, \"#d8576b\"], [0.6666666666666666, \"#ed7953\"], [0.7777777777777778, \"#fb9f3a\"], [0.8888888888888888, \"#fdca26\"], [1.0, \"#f0f921\"]], \"type\": \"contour\"}], \"contourcarpet\": [{\"colorbar\": {\"outlinewidth\": 0, \"ticks\": \"\"}, \"type\": \"contourcarpet\"}], \"heatmap\": [{\"colorbar\": {\"outlinewidth\": 0, \"ticks\": \"\"}, \"colorscale\": [[0.0, \"#0d0887\"], [0.1111111111111111, \"#46039f\"], [0.2222222222222222, \"#7201a8\"], [0.3333333333333333, \"#9c179e\"], [0.4444444444444444, \"#bd3786\"], [0.5555555555555556, \"#d8576b\"], [0.6666666666666666, \"#ed7953\"], [0.7777777777777778, \"#fb9f3a\"], [0.8888888888888888, \"#fdca26\"], [1.0, \"#f0f921\"]], \"type\": \"heatmap\"}], \"heatmapgl\": [{\"colorbar\": {\"outlinewidth\": 0, \"ticks\": \"\"}, \"colorscale\": [[0.0, \"#0d0887\"], [0.1111111111111111, \"#46039f\"], [0.2222222222222222, \"#7201a8\"], [0.3333333333333333, \"#9c179e\"], [0.4444444444444444, \"#bd3786\"], [0.5555555555555556, \"#d8576b\"], [0.6666666666666666, \"#ed7953\"], [0.7777777777777778, \"#fb9f3a\"], [0.8888888888888888, \"#fdca26\"], [1.0, \"#f0f921\"]], \"type\": \"heatmapgl\"}], \"histogram\": [{\"marker\": {\"colorbar\": {\"outlinewidth\": 0, \"ticks\": \"\"}}, \"type\": \"histogram\"}], \"histogram2d\": [{\"colorbar\": {\"outlinewidth\": 0, \"ticks\": \"\"}, \"colorscale\": [[0.0, \"#0d0887\"], [0.1111111111111111, \"#46039f\"], [0.2222222222222222, \"#7201a8\"], [0.3333333333333333, \"#9c179e\"], [0.4444444444444444, \"#bd3786\"], [0.5555555555555556, \"#d8576b\"], [0.6666666666666666, \"#ed7953\"], [0.7777777777777778, \"#fb9f3a\"], [0.8888888888888888, \"#fdca26\"], [1.0, \"#f0f921\"]], \"type\": \"histogram2d\"}], \"histogram2dcontour\": [{\"colorbar\": {\"outlinewidth\": 0, \"ticks\": \"\"}, \"colorscale\": [[0.0, \"#0d0887\"], [0.1111111111111111, \"#46039f\"], [0.2222222222222222, \"#7201a8\"], [0.3333333333333333, \"#9c179e\"], [0.4444444444444444, \"#bd3786\"], [0.5555555555555556, \"#d8576b\"], [0.6666666666666666, \"#ed7953\"], [0.7777777777777778, \"#fb9f3a\"], [0.8888888888888888, \"#fdca26\"], [1.0, \"#f0f921\"]], \"type\": \"histogram2dcontour\"}], \"mesh3d\": [{\"colorbar\": {\"outlinewidth\": 0, \"ticks\": \"\"}, \"type\": \"mesh3d\"}], \"parcoords\": [{\"line\": {\"colorbar\": {\"outlinewidth\": 0, \"ticks\": \"\"}}, \"type\": \"parcoords\"}], \"pie\": [{\"automargin\": true, \"type\": \"pie\"}], \"scatter\": [{\"marker\": {\"colorbar\": {\"outlinewidth\": 0, \"ticks\": \"\"}}, \"type\": \"scatter\"}], \"scatter3d\": [{\"line\": {\"colorbar\": {\"outlinewidth\": 0, \"ticks\": \"\"}}, \"marker\": {\"colorbar\": {\"outlinewidth\": 0, \"ticks\": \"\"}}, \"type\": \"scatter3d\"}], \"scattercarpet\": [{\"marker\": {\"colorbar\": {\"outlinewidth\": 0, \"ticks\": \"\"}}, \"type\": \"scattercarpet\"}], \"scattergeo\": [{\"marker\": {\"colorbar\": {\"outlinewidth\": 0, \"ticks\": \"\"}}, \"type\": \"scattergeo\"}], \"scattergl\": [{\"marker\": {\"colorbar\": {\"outlinewidth\": 0, \"ticks\": \"\"}}, \"type\": \"scattergl\"}], \"scattermapbox\": [{\"marker\": {\"colorbar\": {\"outlinewidth\": 0, \"ticks\": \"\"}}, \"type\": \"scattermapbox\"}], \"scatterpolar\": [{\"marker\": {\"colorbar\": {\"outlinewidth\": 0, \"ticks\": \"\"}}, \"type\": \"scatterpolar\"}], \"scatterpolargl\": [{\"marker\": {\"colorbar\": {\"outlinewidth\": 0, \"ticks\": \"\"}}, \"type\": \"scatterpolargl\"}], \"scatterternary\": [{\"marker\": {\"colorbar\": {\"outlinewidth\": 0, \"ticks\": \"\"}}, \"type\": \"scatterternary\"}], \"surface\": [{\"colorbar\": {\"outlinewidth\": 0, \"ticks\": \"\"}, \"colorscale\": [[0.0, \"#0d0887\"], [0.1111111111111111, \"#46039f\"], [0.2222222222222222, \"#7201a8\"], [0.3333333333333333, \"#9c179e\"], [0.4444444444444444, \"#bd3786\"], [0.5555555555555556, \"#d8576b\"], [0.6666666666666666, \"#ed7953\"], [0.7777777777777778, \"#fb9f3a\"], [0.8888888888888888, \"#fdca26\"], [1.0, \"#f0f921\"]], \"type\": \"surface\"}], \"table\": [{\"cells\": {\"fill\": {\"color\": \"#EBF0F8\"}, \"line\": {\"color\": \"white\"}}, \"header\": {\"fill\": {\"color\": \"#C8D4E3\"}, \"line\": {\"color\": \"white\"}}, \"type\": \"table\"}]}, \"layout\": {\"annotationdefaults\": {\"arrowcolor\": \"#2a3f5f\", \"arrowhead\": 0, \"arrowwidth\": 1}, \"coloraxis\": {\"colorbar\": {\"outlinewidth\": 0, \"ticks\": \"\"}}, \"colorscale\": {\"diverging\": [[0, \"#8e0152\"], [0.1, \"#c51b7d\"], [0.2, \"#de77ae\"], [0.3, \"#f1b6da\"], [0.4, \"#fde0ef\"], [0.5, \"#f7f7f7\"], [0.6, \"#e6f5d0\"], [0.7, \"#b8e186\"], [0.8, \"#7fbc41\"], [0.9, \"#4d9221\"], [1, \"#276419\"]], \"sequential\": [[0.0, \"#0d0887\"], [0.1111111111111111, \"#46039f\"], [0.2222222222222222, \"#7201a8\"], [0.3333333333333333, \"#9c179e\"], [0.4444444444444444, \"#bd3786\"], [0.5555555555555556, \"#d8576b\"], [0.6666666666666666, \"#ed7953\"], [0.7777777777777778, \"#fb9f3a\"], [0.8888888888888888, \"#fdca26\"], [1.0, \"#f0f921\"]], \"sequentialminus\": [[0.0, \"#0d0887\"], [0.1111111111111111, \"#46039f\"], [0.2222222222222222, \"#7201a8\"], [0.3333333333333333, \"#9c179e\"], [0.4444444444444444, \"#bd3786\"], [0.5555555555555556, \"#d8576b\"], [0.6666666666666666, \"#ed7953\"], [0.7777777777777778, \"#fb9f3a\"], [0.8888888888888888, \"#fdca26\"], [1.0, \"#f0f921\"]]}, \"colorway\": [\"#636efa\", \"#EF553B\", \"#00cc96\", \"#ab63fa\", \"#FFA15A\", \"#19d3f3\", \"#FF6692\", \"#B6E880\", \"#FF97FF\", \"#FECB52\"], \"font\": {\"color\": \"#2a3f5f\"}, \"geo\": {\"bgcolor\": \"white\", \"lakecolor\": \"white\", \"landcolor\": \"#E5ECF6\", \"showlakes\": true, \"showland\": true, \"subunitcolor\": \"white\"}, \"hoverlabel\": {\"align\": \"left\"}, \"hovermode\": \"closest\", \"mapbox\": {\"style\": \"light\"}, \"paper_bgcolor\": \"white\", \"plot_bgcolor\": \"#E5ECF6\", \"polar\": {\"angularaxis\": {\"gridcolor\": \"white\", \"linecolor\": \"white\", \"ticks\": \"\"}, \"bgcolor\": \"#E5ECF6\", \"radialaxis\": {\"gridcolor\": \"white\", \"linecolor\": \"white\", \"ticks\": \"\"}}, \"scene\": {\"xaxis\": {\"backgroundcolor\": \"#E5ECF6\", \"gridcolor\": \"white\", \"gridwidth\": 2, \"linecolor\": \"white\", \"showbackground\": true, \"ticks\": \"\", \"zerolinecolor\": \"white\"}, \"yaxis\": {\"backgroundcolor\": \"#E5ECF6\", \"gridcolor\": \"white\", \"gridwidth\": 2, \"linecolor\": \"white\", \"showbackground\": true, \"ticks\": \"\", \"zerolinecolor\": \"white\"}, \"zaxis\": {\"backgroundcolor\": \"#E5ECF6\", \"gridcolor\": \"white\", \"gridwidth\": 2, \"linecolor\": \"white\", \"showbackground\": true, \"ticks\": \"\", \"zerolinecolor\": \"white\"}}, \"shapedefaults\": {\"line\": {\"color\": \"#2a3f5f\"}}, \"ternary\": {\"aaxis\": {\"gridcolor\": \"white\", \"linecolor\": \"white\", \"ticks\": \"\"}, \"baxis\": {\"gridcolor\": \"white\", \"linecolor\": \"white\", \"ticks\": \"\"}, \"bgcolor\": \"#E5ECF6\", \"caxis\": {\"gridcolor\": \"white\", \"linecolor\": \"white\", \"ticks\": \"\"}}, \"title\": {\"x\": 0.05}, \"xaxis\": {\"automargin\": true, \"gridcolor\": \"white\", \"linecolor\": \"white\", \"ticks\": \"\", \"title\": {\"standoff\": 15}, \"zerolinecolor\": \"white\", \"zerolinewidth\": 2}, \"yaxis\": {\"automargin\": true, \"gridcolor\": \"white\", \"linecolor\": \"white\", \"ticks\": \"\", \"title\": {\"standoff\": 15}, \"zerolinecolor\": \"white\", \"zerolinewidth\": 2}}}, \"title\": {\"text\": \"Top 15 countries with Maximum Vaccinations\"}, \"xaxis\": {\"title\": {\"text\": \"Total Vaccinations\"}}, \"yaxis\": {\"title\": {\"text\": \"Countries\"}}},\n",
              "                        {\"responsive\": true}\n",
              "                    ).then(function(){\n",
              "                            \n",
              "var gd = document.getElementById('eb44a86a-8ece-47c9-ba8b-244cad1ed819');\n",
              "var x = new MutationObserver(function (mutations, observer) {{\n",
              "        var display = window.getComputedStyle(gd).display;\n",
              "        if (!display || display === 'none') {{\n",
              "            console.log([gd, 'removed!']);\n",
              "            Plotly.purge(gd);\n",
              "            observer.disconnect();\n",
              "        }}\n",
              "}});\n",
              "\n",
              "// Listen for the removal of the full notebook cells\n",
              "var notebookContainer = gd.closest('#notebook-container');\n",
              "if (notebookContainer) {{\n",
              "    x.observe(notebookContainer, {childList: true});\n",
              "}}\n",
              "\n",
              "// Listen for the clearing of the current output cell\n",
              "var outputEl = gd.closest('.output');\n",
              "if (outputEl) {{\n",
              "    x.observe(outputEl, {childList: true});\n",
              "}}\n",
              "\n",
              "                        })\n",
              "                };\n",
              "                \n",
              "            </script>\n",
              "        </div>\n",
              "</body>\n",
              "</html>"
            ]
          },
          "metadata": {
            "tags": []
          }
        }
      ]
    },
    {
      "cell_type": "markdown",
      "metadata": {
        "id": "XRqMfjTwCjCx"
      },
      "source": [
        "#### People Vaccinated and People fully Vaccinated "
      ]
    },
    {
      "cell_type": "code",
      "metadata": {
        "colab": {
          "base_uri": "https://localhost:8080/",
          "height": 225
        },
        "id": "-ievT9DY9Nqj",
        "outputId": "61b8eee3-979c-455d-cf69-32a047256445"
      },
      "source": [
        "people_vaccinated_country = dataset.groupby('country').max().sort_values(by = 'people_vaccinated',ascending = False)[[                                                                                                                   \n",
        "'people_vaccinated', 'people_fully_vaccinated']]\n",
        "people_vaccinated_country.head()"
      ],
      "execution_count": null,
      "outputs": [
        {
          "output_type": "execute_result",
          "data": {
            "text/html": [
              "<div>\n",
              "<style scoped>\n",
              "    .dataframe tbody tr th:only-of-type {\n",
              "        vertical-align: middle;\n",
              "    }\n",
              "\n",
              "    .dataframe tbody tr th {\n",
              "        vertical-align: top;\n",
              "    }\n",
              "\n",
              "    .dataframe thead th {\n",
              "        text-align: right;\n",
              "    }\n",
              "</style>\n",
              "<table border=\"1\" class=\"dataframe\">\n",
              "  <thead>\n",
              "    <tr style=\"text-align: right;\">\n",
              "      <th></th>\n",
              "      <th>people_vaccinated</th>\n",
              "      <th>people_fully_vaccinated</th>\n",
              "    </tr>\n",
              "    <tr>\n",
              "      <th>country</th>\n",
              "      <th></th>\n",
              "      <th></th>\n",
              "    </tr>\n",
              "  </thead>\n",
              "  <tbody>\n",
              "    <tr>\n",
              "      <th>United States</th>\n",
              "      <td>40268009.0</td>\n",
              "      <td>15471536.0</td>\n",
              "    </tr>\n",
              "    <tr>\n",
              "      <th>United Kingdom</th>\n",
              "      <td>15940972.0</td>\n",
              "      <td>558577.0</td>\n",
              "    </tr>\n",
              "    <tr>\n",
              "      <th>England</th>\n",
              "      <td>13395338.0</td>\n",
              "      <td>495704.0</td>\n",
              "    </tr>\n",
              "    <tr>\n",
              "      <th>Brazil</th>\n",
              "      <td>5326007.0</td>\n",
              "      <td>557532.0</td>\n",
              "    </tr>\n",
              "    <tr>\n",
              "      <th>Turkey</th>\n",
              "      <td>4477432.0</td>\n",
              "      <td>746170.0</td>\n",
              "    </tr>\n",
              "  </tbody>\n",
              "</table>\n",
              "</div>"
            ],
            "text/plain": [
              "                people_vaccinated  people_fully_vaccinated\n",
              "country                                                   \n",
              "United States          40268009.0               15471536.0\n",
              "United Kingdom         15940972.0                 558577.0\n",
              "England                13395338.0                 495704.0\n",
              "Brazil                  5326007.0                 557532.0\n",
              "Turkey                  4477432.0                 746170.0"
            ]
          },
          "metadata": {
            "tags": []
          },
          "execution_count": 89
        }
      ]
    },
    {
      "cell_type": "code",
      "metadata": {
        "colab": {
          "base_uri": "https://localhost:8080/",
          "height": 718
        },
        "id": "uEZSAt8_D8Sm",
        "outputId": "e8bef131-a854-40e6-aca3-9fb5c15b3b48"
      },
      "source": [
        "people_vaccinated = people_vaccinated_country['people_vaccinated'].head(15)\n",
        "people_fully_vaccinated = people_vaccinated_country['people_fully_vaccinated'].head(15)\n",
        "fig, ax = plt.subplots(figsize = (10,10))\n",
        "labels = total_vacc.head(15).index\n",
        "ax.bar(labels, people_vaccinated, label = 'People Vaccinated')\n",
        "ax.bar(labels, people_fully_vaccinated, label = 'People Fully Vaccinated')\n",
        "ax.set_xticklabels(labels, rotation = 90)\n",
        "ax.set_title('People Vaccinated and Fully Vaccinated comaprision')\n",
        "ax.set_ylabel('People in 10 Millions')\n",
        "ax.set_xlabel('Country')\n",
        "ax.legend()\n",
        "plt.show()"
      ],
      "execution_count": null,
      "outputs": [
        {
          "output_type": "display_data",
          "data": {
            "image/png": "[encoded data removed]",
            "text/plain": [
              "<Figure size 720x720 with 1 Axes>"
            ]
          },
          "metadata": {
            "tags": [],
            "needs_background": "light"
          }
        }
      ]
    },
    {
      "cell_type": "markdown",
      "metadata": {
        "id": "2zH8nCdoGEyQ"
      },
      "source": [
        "#### Vaccinations per Hundread"
      ]
    },
    {
      "cell_type": "code",
      "metadata": {
        "colab": {
          "base_uri": "https://localhost:8080/",
          "height": 225
        },
        "id": "c_ctuINXFoyz",
        "outputId": "eb8e8139-20fa-41cd-f15a-3a6c6ce772f7"
      },
      "source": [
        "vaccinations_per_hundread = dataset.groupby('country').max().sort_values('total_vaccinations_per_hundred',ascending = False)[['total_vaccinations_per_hundred', 'people_vaccinated_per_hundred',\t'people_fully_vaccinated_per_hundred']]\n",
        "vaccinations_per_hundread.head()"
      ],
      "execution_count": null,
      "outputs": [
        {
          "output_type": "execute_result",
          "data": {
            "text/html": [
              "<div>\n",
              "<style scoped>\n",
              "    .dataframe tbody tr th:only-of-type {\n",
              "        vertical-align: middle;\n",
              "    }\n",
              "\n",
              "    .dataframe tbody tr th {\n",
              "        vertical-align: top;\n",
              "    }\n",
              "\n",
              "    .dataframe thead th {\n",
              "        text-align: right;\n",
              "    }\n",
              "</style>\n",
              "<table border=\"1\" class=\"dataframe\">\n",
              "  <thead>\n",
              "    <tr style=\"text-align: right;\">\n",
              "      <th></th>\n",
              "      <th>total_vaccinations_per_hundred</th>\n",
              "      <th>people_vaccinated_per_hundred</th>\n",
              "      <th>people_fully_vaccinated_per_hundred</th>\n",
              "    </tr>\n",
              "    <tr>\n",
              "      <th>country</th>\n",
              "      <th></th>\n",
              "      <th></th>\n",
              "      <th></th>\n",
              "    </tr>\n",
              "  </thead>\n",
              "  <tbody>\n",
              "    <tr>\n",
              "      <th>Gibraltar</th>\n",
              "      <td>80.24</td>\n",
              "      <td>48.27</td>\n",
              "      <td>31.97</td>\n",
              "    </tr>\n",
              "    <tr>\n",
              "      <th>Israel</th>\n",
              "      <td>79.48</td>\n",
              "      <td>47.66</td>\n",
              "      <td>31.81</td>\n",
              "    </tr>\n",
              "    <tr>\n",
              "      <th>Seychelles</th>\n",
              "      <td>61.00</td>\n",
              "      <td>42.52</td>\n",
              "      <td>18.48</td>\n",
              "    </tr>\n",
              "    <tr>\n",
              "      <th>United Arab Emirates</th>\n",
              "      <td>53.43</td>\n",
              "      <td>8.46</td>\n",
              "      <td>2.53</td>\n",
              "    </tr>\n",
              "    <tr>\n",
              "      <th>Wales</th>\n",
              "      <td>26.02</td>\n",
              "      <td>25.61</td>\n",
              "      <td>0.41</td>\n",
              "    </tr>\n",
              "  </tbody>\n",
              "</table>\n",
              "</div>"
            ],
            "text/plain": [
              "                      total_vaccinations_per_hundred  ...  people_fully_vaccinated_per_hundred\n",
              "country                                               ...                                     \n",
              "Gibraltar                                      80.24  ...                                31.97\n",
              "Israel                                         79.48  ...                                31.81\n",
              "Seychelles                                     61.00  ...                                18.48\n",
              "United Arab Emirates                           53.43  ...                                 2.53\n",
              "Wales                                          26.02  ...                                 0.41\n",
              "\n",
              "[5 rows x 3 columns]"
            ]
          },
          "metadata": {
            "tags": []
          },
          "execution_count": 91
        }
      ]
    },
    {
      "cell_type": "code",
      "metadata": {
        "colab": {
          "base_uri": "https://localhost:8080/",
          "height": 733
        },
        "id": "toUcsL9YHabx",
        "outputId": "fa6b8c01-79b7-4e29-8552-180337cea423"
      },
      "source": [
        "total_vacc_per_hund = vaccinations_per_hundread['total_vaccinations_per_hundred'].head(15)\n",
        "people_vacc_per_hund = vaccinations_per_hundread['people_vaccinated_per_hundred'].head(15)\n",
        "people_fully_vacc_hund = vaccinations_per_hundread['people_fully_vaccinated_per_hundred'].head(15)\n",
        "labels = vaccinations_per_hundread.head(15).index\n",
        "fig, ax = plt.subplots(figsize = (10,10))\n",
        "ax.bar(labels, total_vacc_per_hund, Label = 'total_vaccinations_per_hundred' )\n",
        "ax.bar(labels, people_vacc_per_hund, label = 'people_vaccinated_per_hundred')\n",
        "ax.bar(labels, people_fully_vacc_hund, label = 'people_fully_vaccinated_per_hundred')\n",
        "ax.set_xticklabels(labels, rotation = 90)\n",
        "ax.set_title('Vaccinations per hundred: Total per hundread, people per hundread, people fully per hundread vaccinated')\n",
        "ax.set_ylabel('People Vaccinated')\n",
        "ax.set_xlabel('country')\n",
        "ax.legend()\n",
        "plt.show()"
      ],
      "execution_count": null,
      "outputs": [
        {
          "output_type": "display_data",
          "data": {
            "image/png": "[encoded data removed]",
            "text/plain": [
              "<Figure size 720x720 with 1 Axes>"
            ]
          },
          "metadata": {
            "tags": [],
            "needs_background": "light"
          }
        }
      ]
    },
    {
      "cell_type": "markdown",
      "metadata": {
        "id": "gcL4ldYiutbu"
      },
      "source": [
        "#### Daily vaccinations per millions"
      ]
    },
    {
      "cell_type": "code",
      "metadata": {
        "colab": {
          "base_uri": "https://localhost:8080/"
        },
        "id": "H5XQp4bwKiR_",
        "outputId": "55dca48a-363d-45a0-8f43-0b4c6024c680"
      },
      "source": [
        "daily_vacc_per_mil = dataset.groupby('country').max().sort_values(by = 'daily_vaccinations_per_million', ascending = False)[\n",
        "'daily_vaccinations_per_million']\n",
        "print(daily_vacc_per_mil.head())\n",
        "daily_vacc = dataset.groupby('country').max().sort_values(by = 'daily_vaccinations',ascending = False)['daily_vaccinations']\n",
        "print(daily_vacc.head())"
      ],
      "execution_count": null,
      "outputs": [
        {
          "output_type": "stream",
          "text": [
            "country\n",
            "Gibraltar               30869.0\n",
            "Seychelles              24415.0\n",
            "Israel                  21319.0\n",
            "United Arab Emirates    16179.0\n",
            "Scotland                10255.0\n",
            "Name: daily_vaccinations_per_million, dtype: float64\n",
            "country\n",
            "China             1916190.0\n",
            "United States     1716311.0\n",
            "United Kingdom     445204.0\n",
            "England            376532.0\n",
            "India              366795.0\n",
            "Name: daily_vaccinations, dtype: float64\n"
          ],
          "name": "stdout"
        }
      ]
    },
    {
      "cell_type": "code",
      "metadata": {
        "colab": {
          "base_uri": "https://localhost:8080/",
          "height": 513
        },
        "id": "7mh3v5IPvlgx",
        "outputId": "db578026-8ec8-437b-b959-3dd1cbe031fe"
      },
      "source": [
        "daily_vaccinations_per_million = daily_vacc_per_mil.head(15).values\n",
        "fig, ax = plt.subplots(figsize =(8,8))\n",
        "labels = daily_vacc_per_mil.head(15).index\n",
        "ax = sns.barplot(x = daily_vaccinations_per_million, y = labels)\n",
        "ax.set_ylabel('Country')\n",
        "ax.set_xlabel('People Vaccinated per millions')\n",
        "ax.set_title('People Vaccinated per millions countrywise distributions')\n",
        "plt.show()"
      ],
      "execution_count": null,
      "outputs": [
        {
          "output_type": "display_data",
          "data": {
            "image/png": "[encoded data removed]",
            "text/plain": [
              "<Figure size 576x576 with 1 Axes>"
            ]
          },
          "metadata": {
            "tags": [],
            "needs_background": "light"
          }
        }
      ]
    },
    {
      "cell_type": "code",
      "metadata": {
        "colab": {
          "base_uri": "https://localhost:8080/",
          "height": 513
        },
        "id": "aRKXjbMkAjkf",
        "outputId": "2a230d55-45e4-439c-bada-d86d67eba606"
      },
      "source": [
        "daily_vaccinations = daily_vacc.head(15).values\n",
        "fig, ax = plt.subplots(figsize =(8,8))\n",
        "labels = daily_vacc.head(15).index\n",
        "ax = sns.barplot(x = daily_vaccinations, y = labels)\n",
        "ax.set_ylabel('Country')\n",
        "ax.set_xlabel('People Vaccinated in millions')\n",
        "ax.set_title('People Vaccinated normal countrywise distributions in millions')\n",
        "plt.show()"
      ],
      "execution_count": null,
      "outputs": [
        {
          "output_type": "display_data",
          "data": {
            "image/png": "[encoded data removed]",
            "text/plain": [
              "<Figure size 576x576 with 1 Axes>"
            ]
          },
          "metadata": {
            "tags": [],
            "needs_background": "light"
          }
        }
      ]
    },
    {
      "cell_type": "markdown",
      "metadata": {
        "id": "ZYQjpVF3zDPQ"
      },
      "source": [
        "Total Vaccinations progress considering India, It is country within top 10 vaccinations rates"
      ]
    },
    {
      "cell_type": "markdown",
      "metadata": {
        "id": "-AR2ZZCpz98V"
      },
      "source": [
        "#### Total Vaccinations comaprision wrt Date - India"
      ]
    },
    {
      "cell_type": "code",
      "metadata": {
        "colab": {
          "base_uri": "https://localhost:8080/",
          "height": 195
        },
        "id": "o8fd9ouNwvvY",
        "outputId": "a2d5a8ca-33a8-42c5-ce22-9e1166d53724"
      },
      "source": [
        "Total_vaccinations_india = dataset[dataset['country']== 'India'][['date', 'total_vaccinations']]\n",
        "Total_vaccinations_india = Total_vaccinations_india.dropna()\n",
        "Total_vaccinations_india.head()"
      ],
      "execution_count": null,
      "outputs": [
        {
          "output_type": "execute_result",
          "data": {
            "text/html": [
              "<div>\n",
              "<style scoped>\n",
              "    .dataframe tbody tr th:only-of-type {\n",
              "        vertical-align: middle;\n",
              "    }\n",
              "\n",
              "    .dataframe tbody tr th {\n",
              "        vertical-align: top;\n",
              "    }\n",
              "\n",
              "    .dataframe thead th {\n",
              "        text-align: right;\n",
              "    }\n",
              "</style>\n",
              "<table border=\"1\" class=\"dataframe\">\n",
              "  <thead>\n",
              "    <tr style=\"text-align: right;\">\n",
              "      <th></th>\n",
              "      <th>date</th>\n",
              "      <th>total_vaccinations</th>\n",
              "    </tr>\n",
              "  </thead>\n",
              "  <tbody>\n",
              "    <tr>\n",
              "      <th>1444</th>\n",
              "      <td>2021-01-15</td>\n",
              "      <td>0.0</td>\n",
              "    </tr>\n",
              "    <tr>\n",
              "      <th>1445</th>\n",
              "      <td>2021-01-16</td>\n",
              "      <td>191181.0</td>\n",
              "    </tr>\n",
              "    <tr>\n",
              "      <th>1446</th>\n",
              "      <td>2021-01-17</td>\n",
              "      <td>224301.0</td>\n",
              "    </tr>\n",
              "    <tr>\n",
              "      <th>1447</th>\n",
              "      <td>2021-01-18</td>\n",
              "      <td>454049.0</td>\n",
              "    </tr>\n",
              "    <tr>\n",
              "      <th>1448</th>\n",
              "      <td>2021-01-19</td>\n",
              "      <td>674835.0</td>\n",
              "    </tr>\n",
              "  </tbody>\n",
              "</table>\n",
              "</div>"
            ],
            "text/plain": [
              "            date  total_vaccinations\n",
              "1444  2021-01-15                 0.0\n",
              "1445  2021-01-16            191181.0\n",
              "1446  2021-01-17            224301.0\n",
              "1447  2021-01-18            454049.0\n",
              "1448  2021-01-19            674835.0"
            ]
          },
          "metadata": {
            "tags": []
          },
          "execution_count": 97
        }
      ]
    },
    {
      "cell_type": "code",
      "metadata": {
        "colab": {
          "base_uri": "https://localhost:8080/",
          "height": 501
        },
        "id": "e0tY8PZnzhLW",
        "outputId": "a343fa92-b795-4830-b86c-c9a231467091"
      },
      "source": [
        "x = Total_vaccinations_india['date']\n",
        "y = Total_vaccinations_india['total_vaccinations']\n",
        "figu, ax = plt.subplots(figsize = (12,7))\n",
        "fig = sns.lineplot(data = Total_vaccinations_india, x= 'date',y = 'total_vaccinations', ax = ax,color = 'red',ls = '--')\n",
        "fig.set(xlabel = 'Date', ylabel = 'Total Vaccination in India in millions')\n",
        "plt.xticks(rotation = 90)\n",
        "plt.show()"
      ],
      "execution_count": null,
      "outputs": [
        {
          "output_type": "display_data",
          "data": {
            "image/png": "[encoded data removed]",
            "text/plain": [
              "<Figure size 864x504 with 1 Axes>"
            ]
          },
          "metadata": {
            "tags": [],
            "needs_background": "light"
          }
        }
      ]
    },
    {
      "cell_type": "markdown",
      "metadata": {
        "id": "T8yDUBVX1PF-"
      },
      "source": [
        "#### People Vaccinated and people fully vaccinated - United States"
      ]
    },
    {
      "cell_type": "code",
      "metadata": {
        "colab": {
          "base_uri": "https://localhost:8080/",
          "height": 195
        },
        "id": "n1EtUY7Uz3_f",
        "outputId": "ab9e987a-3834-46a1-96a7-c5cda258825c"
      },
      "source": [
        "people_vaccinated_US = dataset[dataset['country'] == 'United States'][['date', 'people_vaccinated','people_fully_vaccinated']]\n",
        "people_vaccinated_US = people_vaccinated_US.dropna()\n",
        "people_vaccinated_US.head()"
      ],
      "execution_count": null,
      "outputs": [
        {
          "output_type": "execute_result",
          "data": {
            "text/html": [
              "<div>\n",
              "<style scoped>\n",
              "    .dataframe tbody tr th:only-of-type {\n",
              "        vertical-align: middle;\n",
              "    }\n",
              "\n",
              "    .dataframe tbody tr th {\n",
              "        vertical-align: top;\n",
              "    }\n",
              "\n",
              "    .dataframe thead th {\n",
              "        text-align: right;\n",
              "    }\n",
              "</style>\n",
              "<table border=\"1\" class=\"dataframe\">\n",
              "  <thead>\n",
              "    <tr style=\"text-align: right;\">\n",
              "      <th></th>\n",
              "      <th>date</th>\n",
              "      <th>people_vaccinated</th>\n",
              "      <th>people_fully_vaccinated</th>\n",
              "    </tr>\n",
              "  </thead>\n",
              "  <tbody>\n",
              "    <tr>\n",
              "      <th>3295</th>\n",
              "      <td>2021-01-14</td>\n",
              "      <td>9690757.0</td>\n",
              "      <td>1342086.0</td>\n",
              "    </tr>\n",
              "    <tr>\n",
              "      <th>3296</th>\n",
              "      <td>2021-01-15</td>\n",
              "      <td>10595866.0</td>\n",
              "      <td>1610524.0</td>\n",
              "    </tr>\n",
              "    <tr>\n",
              "      <th>3300</th>\n",
              "      <td>2021-01-19</td>\n",
              "      <td>13595803.0</td>\n",
              "      <td>2023124.0</td>\n",
              "    </tr>\n",
              "    <tr>\n",
              "      <th>3301</th>\n",
              "      <td>2021-01-20</td>\n",
              "      <td>14270441.0</td>\n",
              "      <td>2161419.0</td>\n",
              "    </tr>\n",
              "    <tr>\n",
              "      <th>3302</th>\n",
              "      <td>2021-01-21</td>\n",
              "      <td>15053257.0</td>\n",
              "      <td>2394961.0</td>\n",
              "    </tr>\n",
              "  </tbody>\n",
              "</table>\n",
              "</div>"
            ],
            "text/plain": [
              "            date  people_vaccinated  people_fully_vaccinated\n",
              "3295  2021-01-14          9690757.0                1342086.0\n",
              "3296  2021-01-15         10595866.0                1610524.0\n",
              "3300  2021-01-19         13595803.0                2023124.0\n",
              "3301  2021-01-20         14270441.0                2161419.0\n",
              "3302  2021-01-21         15053257.0                2394961.0"
            ]
          },
          "metadata": {
            "tags": []
          },
          "execution_count": 99
        }
      ]
    },
    {
      "cell_type": "code",
      "metadata": {
        "colab": {
          "base_uri": "https://localhost:8080/",
          "height": 506
        },
        "id": "v6a7xk5P2TKF",
        "outputId": "fe8f1a2a-20f6-4ed1-ef62-a4a9e13d72e0"
      },
      "source": [
        "x = people_vaccinated_US['date']\n",
        "y = people_vaccinated_US['people_vaccinated']\n",
        "z = people_vaccinated_US['people_fully_vaccinated']\n",
        "fig, ax = plt.subplots(figsize = (12,7))\n",
        "ax.plot(x, y, ls = '--',color = 'red', label = 'people_vaccinated')\n",
        "ax.plot(x, z, ls = '--', color = 'blue', label ='people_fully_vaccinated')\n",
        "ax.set_title('People Vaccinated and fully vaccinated comparision - US')\n",
        "ax.set_xlabel('Date')\n",
        "ax.set_ylabel('People Vaccinated / Fully vaccinted in millions')\n",
        "ax.set_xticklabels(labels = x, rotation = 90)\n",
        "ax.legend()\n",
        "plt.show()"
      ],
      "execution_count": null,
      "outputs": [
        {
          "output_type": "display_data",
          "data": {
            "image/png": "[encoded data removed]",
            "text/plain": [
              "<Figure size 864x504 with 1 Axes>"
            ]
          },
          "metadata": {
            "tags": [],
            "needs_background": "light"
          }
        }
      ]
    },
    {
      "cell_type": "markdown",
      "metadata": {
        "id": "uwacEoVy5UzY"
      },
      "source": [
        "#### Vaccinations per Hundreads - United States"
      ]
    },
    {
      "cell_type": "code",
      "metadata": {
        "colab": {
          "base_uri": "https://localhost:8080/",
          "height": 195
        },
        "id": "pVSiY4J64sN7",
        "outputId": "cb1e5700-18bc-412f-b0ca-3b75edf66690"
      },
      "source": [
        "vacc_per_hund_US = dataset[dataset['country'] == 'United States'][[\n",
        "'date', 'total_vaccinations_per_hundred','people_vaccinated_per_hundred','people_fully_vaccinated_per_hundred']]\n",
        "vacc_per_hund_US = vacc_per_hund_US.dropna()\n",
        "vacc_per_hund_US.head()"
      ],
      "execution_count": null,
      "outputs": [
        {
          "output_type": "execute_result",
          "data": {
            "text/html": [
              "<div>\n",
              "<style scoped>\n",
              "    .dataframe tbody tr th:only-of-type {\n",
              "        vertical-align: middle;\n",
              "    }\n",
              "\n",
              "    .dataframe tbody tr th {\n",
              "        vertical-align: top;\n",
              "    }\n",
              "\n",
              "    .dataframe thead th {\n",
              "        text-align: right;\n",
              "    }\n",
              "</style>\n",
              "<table border=\"1\" class=\"dataframe\">\n",
              "  <thead>\n",
              "    <tr style=\"text-align: right;\">\n",
              "      <th></th>\n",
              "      <th>date</th>\n",
              "      <th>total_vaccinations_per_hundred</th>\n",
              "      <th>people_vaccinated_per_hundred</th>\n",
              "      <th>people_fully_vaccinated_per_hundred</th>\n",
              "    </tr>\n",
              "  </thead>\n",
              "  <tbody>\n",
              "    <tr>\n",
              "      <th>3295</th>\n",
              "      <td>2021-01-14</td>\n",
              "      <td>3.33</td>\n",
              "      <td>2.90</td>\n",
              "      <td>0.40</td>\n",
              "    </tr>\n",
              "    <tr>\n",
              "      <th>3296</th>\n",
              "      <td>2021-01-15</td>\n",
              "      <td>3.67</td>\n",
              "      <td>3.17</td>\n",
              "      <td>0.48</td>\n",
              "    </tr>\n",
              "    <tr>\n",
              "      <th>3300</th>\n",
              "      <td>2021-01-19</td>\n",
              "      <td>4.70</td>\n",
              "      <td>4.07</td>\n",
              "      <td>0.60</td>\n",
              "    </tr>\n",
              "    <tr>\n",
              "      <th>3301</th>\n",
              "      <td>2021-01-20</td>\n",
              "      <td>4.94</td>\n",
              "      <td>4.27</td>\n",
              "      <td>0.65</td>\n",
              "    </tr>\n",
              "    <tr>\n",
              "      <th>3302</th>\n",
              "      <td>2021-01-21</td>\n",
              "      <td>5.25</td>\n",
              "      <td>4.50</td>\n",
              "      <td>0.72</td>\n",
              "    </tr>\n",
              "  </tbody>\n",
              "</table>\n",
              "</div>"
            ],
            "text/plain": [
              "            date  ...  people_fully_vaccinated_per_hundred\n",
              "3295  2021-01-14  ...                                 0.40\n",
              "3296  2021-01-15  ...                                 0.48\n",
              "3300  2021-01-19  ...                                 0.60\n",
              "3301  2021-01-20  ...                                 0.65\n",
              "3302  2021-01-21  ...                                 0.72\n",
              "\n",
              "[5 rows x 4 columns]"
            ]
          },
          "metadata": {
            "tags": []
          },
          "execution_count": 101
        }
      ]
    },
    {
      "cell_type": "code",
      "metadata": {
        "colab": {
          "base_uri": "https://localhost:8080/",
          "height": 561
        },
        "id": "49eUrgR76Sd6",
        "outputId": "52ce2468-d0a0-4da1-914a-95cf6afdab72"
      },
      "source": [
        "x = vacc_per_hund_US['date']\n",
        "y = vacc_per_hund_US['total_vaccinations_per_hundred']\n",
        "z = vacc_per_hund_US['people_vaccinated_per_hundred']\n",
        "w = vacc_per_hund_US['people_fully_vaccinated_per_hundred']\n",
        "fig, ax = plt.subplots(figsize = (12,8))\n",
        "ax.plot(x,y, ls = '--', color = 'red', label = 'total_vaccinations_per_hundred')\n",
        "ax.plot(x,z, ls = '--', color = 'blue', label = 'people_vaccinated_per_hundred')\n",
        "ax.plot(x,w, ls = '--', color = 'green', label = 'people_fully_vaccinated_per_hundred')\n",
        "ax.set_title('Vaccinations per hundred - US')\n",
        "ax.set_xlabel('Date')\n",
        "ax.set_ylabel('People vaccinated per hundreds')\n",
        "ax.set_xticklabels(labels=x,rotation = 90)\n",
        "ax.legend()\n",
        "plt.show()"
      ],
      "execution_count": null,
      "outputs": [
        {
          "output_type": "display_data",
          "data": {
            "image/png": "[encoded data removed]",
            "text/plain": [
              "<Figure size 864x576 with 1 Axes>"
            ]
          },
          "metadata": {
            "tags": [],
            "needs_background": "light"
          }
        }
      ]
    },
    {
      "cell_type": "markdown",
      "metadata": {
        "id": "_pGDecjl-XlQ"
      },
      "source": [
        "#### Daily Vaccinations per millions - United States"
      ]
    },
    {
      "cell_type": "code",
      "metadata": {
        "colab": {
          "base_uri": "https://localhost:8080/",
          "height": 195
        },
        "id": "q_VmdPiF-Kgi",
        "outputId": "f206d1e7-e462-4fdb-c1ea-447d67119e88"
      },
      "source": [
        "daily_vacc_per_mil_US = dataset[dataset['country'] == 'United States'][['date','daily_vaccinations_per_million']]\n",
        "daily_vacc_per_mil_US = daily_vacc_per_mil_US.dropna()\n",
        "daily_vacc_per_mil_US.head()"
      ],
      "execution_count": null,
      "outputs": [
        {
          "output_type": "execute_result",
          "data": {
            "text/html": [
              "<div>\n",
              "<style scoped>\n",
              "    .dataframe tbody tr th:only-of-type {\n",
              "        vertical-align: middle;\n",
              "    }\n",
              "\n",
              "    .dataframe tbody tr th {\n",
              "        vertical-align: top;\n",
              "    }\n",
              "\n",
              "    .dataframe thead th {\n",
              "        text-align: right;\n",
              "    }\n",
              "</style>\n",
              "<table border=\"1\" class=\"dataframe\">\n",
              "  <thead>\n",
              "    <tr style=\"text-align: right;\">\n",
              "      <th></th>\n",
              "      <th>date</th>\n",
              "      <th>daily_vaccinations_per_million</th>\n",
              "    </tr>\n",
              "  </thead>\n",
              "  <tbody>\n",
              "    <tr>\n",
              "      <th>3271</th>\n",
              "      <td>2020-12-21</td>\n",
              "      <td>173.0</td>\n",
              "    </tr>\n",
              "    <tr>\n",
              "      <th>3272</th>\n",
              "      <td>2020-12-22</td>\n",
              "      <td>381.0</td>\n",
              "    </tr>\n",
              "    <tr>\n",
              "      <th>3273</th>\n",
              "      <td>2020-12-23</td>\n",
              "      <td>450.0</td>\n",
              "    </tr>\n",
              "    <tr>\n",
              "      <th>3274</th>\n",
              "      <td>2020-12-24</td>\n",
              "      <td>571.0</td>\n",
              "    </tr>\n",
              "    <tr>\n",
              "      <th>3275</th>\n",
              "      <td>2020-12-25</td>\n",
              "      <td>644.0</td>\n",
              "    </tr>\n",
              "  </tbody>\n",
              "</table>\n",
              "</div>"
            ],
            "text/plain": [
              "            date  daily_vaccinations_per_million\n",
              "3271  2020-12-21                           173.0\n",
              "3272  2020-12-22                           381.0\n",
              "3273  2020-12-23                           450.0\n",
              "3274  2020-12-24                           571.0\n",
              "3275  2020-12-25                           644.0"
            ]
          },
          "metadata": {
            "tags": []
          },
          "execution_count": 103
        }
      ]
    },
    {
      "cell_type": "code",
      "metadata": {
        "colab": {
          "base_uri": "https://localhost:8080/",
          "height": 506
        },
        "id": "J014iz29_DzS",
        "outputId": "9b76fb7b-2e35-4b34-b7d1-e6b32f328776"
      },
      "source": [
        "x = daily_vacc_per_mil_US['date']\n",
        "y = daily_vacc_per_mil_US['daily_vaccinations_per_million']\n",
        "fig, ax = plt.subplots(figsize = (15,7))\n",
        "ax.plot(x,y,ls = '--',color = 'red',label ='daily_vaccinations_per_million')\n",
        "ax.set_title('Daily vaccinations per million')\n",
        "ax.set_xlabel('Date')\n",
        "ax.set_ylabel('People getting Vacc per million')\n",
        "ax.set_xticklabels(labels = x, rotation = 90)\n",
        "ax.legend()\n",
        "plt.show()"
      ],
      "execution_count": null,
      "outputs": [
        {
          "output_type": "display_data",
          "data": {
            "image/png": "[encoded data removed]",
            "text/plain": [
              "<Figure size 1080x504 with 1 Axes>"
            ]
          },
          "metadata": {
            "tags": [],
            "needs_background": "light"
          }
        }
      ]
    },
    {
      "cell_type": "markdown",
      "metadata": {
        "id": "M4o6CBm7C22r"
      },
      "source": [
        "#### Vaccines Availability"
      ]
    },
    {
      "cell_type": "code",
      "metadata": {
        "colab": {
          "base_uri": "https://localhost:8080/"
        },
        "id": "fZtV87gbC-Nm",
        "outputId": "51319fa0-5758-4cf9-e988-ec3c4aa2c684"
      },
      "source": [
        "print(dataset.vaccines.unique())\n",
        "print(dataset.vaccines.nunique())"
      ],
      "execution_count": null,
      "outputs": [
        {
          "output_type": "stream",
          "text": [
            "['Pfizer/BioNTech' 'Sputnik V' 'Oxford/AstraZeneca'\n",
            " 'Moderna, Oxford/AstraZeneca, Pfizer/BioNTech'\n",
            " 'Oxford/AstraZeneca, Sputnik V' 'Pfizer/BioNTech, Sinopharm/Beijing'\n",
            " 'Oxford/AstraZeneca, Sinovac' 'Sinopharm/Beijing'\n",
            " 'Moderna, Pfizer/BioNTech' 'Pfizer/BioNTech, Sinovac'\n",
            " 'Sinopharm/Beijing, Sinopharm/Wuhan, Sinovac'\n",
            " 'Oxford/AstraZeneca, Pfizer/BioNTech' 'Covaxin, Oxford/AstraZeneca'\n",
            " 'Sinovac' 'Oxford/AstraZeneca, Sinopharm/Beijing'\n",
            " 'Oxford/AstraZeneca, Sinopharm/Beijing, Sputnik V'\n",
            " 'Pfizer/BioNTech, Sinopharm/Beijing, Sputnik V'\n",
            " 'Oxford/AstraZeneca, Pfizer/BioNTech, Sinopharm/Beijing, Sinopharm/Wuhan, Sputnik V']\n",
            "18\n"
          ],
          "name": "stdout"
        }
      ]
    },
    {
      "cell_type": "markdown",
      "metadata": {
        "id": "c7X-ajxSDPgD"
      },
      "source": [
        "There are total 18 different Vaccines available"
      ]
    },
    {
      "cell_type": "code",
      "metadata": {
        "colab": {
          "base_uri": "https://localhost:8080/",
          "height": 431
        },
        "id": "sX9S8DSPDCXa",
        "outputId": "e7042061-1c01-4c94-9fe7-062157a072ee"
      },
      "source": [
        "vaccines = dataset.groupby('country').max().sort_values(by = 'vaccines', ascending = False)['vaccines']\n",
        "pd.DataFrame(vaccines)"
      ],
      "execution_count": null,
      "outputs": [
        {
          "output_type": "execute_result",
          "data": {
            "text/html": [
              "<div>\n",
              "<style scoped>\n",
              "    .dataframe tbody tr th:only-of-type {\n",
              "        vertical-align: middle;\n",
              "    }\n",
              "\n",
              "    .dataframe tbody tr th {\n",
              "        vertical-align: top;\n",
              "    }\n",
              "\n",
              "    .dataframe thead th {\n",
              "        text-align: right;\n",
              "    }\n",
              "</style>\n",
              "<table border=\"1\" class=\"dataframe\">\n",
              "  <thead>\n",
              "    <tr style=\"text-align: right;\">\n",
              "      <th></th>\n",
              "      <th>vaccines</th>\n",
              "    </tr>\n",
              "    <tr>\n",
              "      <th>country</th>\n",
              "      <th></th>\n",
              "    </tr>\n",
              "  </thead>\n",
              "  <tbody>\n",
              "    <tr>\n",
              "      <th>Iran</th>\n",
              "      <td>Sputnik V</td>\n",
              "    </tr>\n",
              "    <tr>\n",
              "      <th>Bolivia</th>\n",
              "      <td>Sputnik V</td>\n",
              "    </tr>\n",
              "    <tr>\n",
              "      <th>Argentina</th>\n",
              "      <td>Sputnik V</td>\n",
              "    </tr>\n",
              "    <tr>\n",
              "      <th>Russia</th>\n",
              "      <td>Sputnik V</td>\n",
              "    </tr>\n",
              "    <tr>\n",
              "      <th>Algeria</th>\n",
              "      <td>Sputnik V</td>\n",
              "    </tr>\n",
              "    <tr>\n",
              "      <th>...</th>\n",
              "      <td>...</td>\n",
              "    </tr>\n",
              "    <tr>\n",
              "      <th>Ireland</th>\n",
              "      <td>Moderna, Oxford/AstraZeneca, Pfizer/BioNTech</td>\n",
              "    </tr>\n",
              "    <tr>\n",
              "      <th>Netherlands</th>\n",
              "      <td>Moderna, Oxford/AstraZeneca, Pfizer/BioNTech</td>\n",
              "    </tr>\n",
              "    <tr>\n",
              "      <th>Latvia</th>\n",
              "      <td>Moderna, Oxford/AstraZeneca, Pfizer/BioNTech</td>\n",
              "    </tr>\n",
              "    <tr>\n",
              "      <th>Italy</th>\n",
              "      <td>Moderna, Oxford/AstraZeneca, Pfizer/BioNTech</td>\n",
              "    </tr>\n",
              "    <tr>\n",
              "      <th>India</th>\n",
              "      <td>Covaxin, Oxford/AstraZeneca</td>\n",
              "    </tr>\n",
              "  </tbody>\n",
              "</table>\n",
              "<p>94 rows × 1 columns</p>\n",
              "</div>"
            ],
            "text/plain": [
              "                                                 vaccines\n",
              "country                                                  \n",
              "Iran                                            Sputnik V\n",
              "Bolivia                                         Sputnik V\n",
              "Argentina                                       Sputnik V\n",
              "Russia                                          Sputnik V\n",
              "Algeria                                         Sputnik V\n",
              "...                                                   ...\n",
              "Ireland      Moderna, Oxford/AstraZeneca, Pfizer/BioNTech\n",
              "Netherlands  Moderna, Oxford/AstraZeneca, Pfizer/BioNTech\n",
              "Latvia       Moderna, Oxford/AstraZeneca, Pfizer/BioNTech\n",
              "Italy        Moderna, Oxford/AstraZeneca, Pfizer/BioNTech\n",
              "India                         Covaxin, Oxford/AstraZeneca\n",
              "\n",
              "[94 rows x 1 columns]"
            ]
          },
          "metadata": {
            "tags": []
          },
          "execution_count": 123
        }
      ]
    },
    {
      "cell_type": "markdown",
      "metadata": {
        "id": "n8S7Mzd_Hha6"
      },
      "source": [
        "In Some countries as following vaccines are used mainly"
      ]
    },
    {
      "cell_type": "code",
      "metadata": {
        "colab": {
          "base_uri": "https://localhost:8080/"
        },
        "id": "JwdskcyvHp_2",
        "outputId": "0acd03bf-d6d6-4f2c-ed59-23e268ad8fed"
      },
      "source": [
        "print('Vaccines used in India:  ',vaccines.get(key = 'India'))\n",
        "print('Vaccines used in United States:  ',vaccines.get(key = 'United_States'))\n",
        "print('Vaccines used in Japan:  ',vaccines.get(key = 'Japan'))\n",
        "print('Vaccines used in Russia:  ',vaccines.get(key = 'Russia'))\n",
        "print('Vaccines used in China:  ',vaccines.get(key = 'China'))\n"
      ],
      "execution_count": null,
      "outputs": [
        {
          "output_type": "stream",
          "text": [
            "Vaccines used in India:   Covaxin, Oxford/AstraZeneca\n",
            "Vaccines used in United States:   None\n",
            "Vaccines used in Japan:   Pfizer/BioNTech\n",
            "Vaccines used in Russia:   Sputnik V\n",
            "Vaccines used in China:   Sinopharm/Beijing, Sinopharm/Wuhan, Sinovac\n"
          ],
          "name": "stdout"
        }
      ]
    }
  ]
}